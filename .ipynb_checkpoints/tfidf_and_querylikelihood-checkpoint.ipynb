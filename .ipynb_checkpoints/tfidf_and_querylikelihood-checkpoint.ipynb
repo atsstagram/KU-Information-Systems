{
 "cells": [
  {
   "cell_type": "code",
   "execution_count": 5,
   "id": "f842bd4e",
   "metadata": {},
   "outputs": [],
   "source": [
    "import math\n",
    "import numpy as np"
   ]
  },
  {
   "cell_type": "code",
   "execution_count": 33,
   "id": "2478493e",
   "metadata": {},
   "outputs": [
    {
     "name": "stdout",
     "output_type": "stream",
     "text": [
      "[[1 0 0 1]\n",
      " [0 1 0 1]\n",
      " [1 2 1 0]\n",
      " [1 1 2 0]\n",
      " [1 1 1 1]]\n",
      "[[1 0 0 1]\n",
      " [0 1 0 1]\n",
      " [1 1 1 0]\n",
      " [1 1 1 0]\n",
      " [1 1 1 1]]\n"
     ]
    }
   ],
   "source": [
    "#文書\n",
    "document_amount=5\n",
    "word_amount=4\n",
    "document_appearance=np.array([[1,0,0,1],[0,1,0,1],[1,2,1,0],[1,1,2,0],[1,1,1,1]]) #情報,検索,システム,結果\n",
    "document_appearance_bool=np.where(document_appearance>=1,1,0)\n",
    "print(document_appearance)\n",
    "print(document_appearance_bool)"
   ]
  },
  {
   "cell_type": "code",
   "execution_count": 90,
   "id": "4fc3a924",
   "metadata": {},
   "outputs": [],
   "source": [
    "#クエリ\n",
    "query_amount=3\n",
    "query=np.array([[0,1,0,0],[0,1,1,0],[1,1,0,0]])"
   ]
  },
  {
   "cell_type": "code",
   "execution_count": 82,
   "id": "54ab5fe4",
   "metadata": {},
   "outputs": [
    {
     "data": {
      "text/plain": [
       "array([0.8, 1. , 0.8, 0.6])"
      ]
     },
     "execution_count": 82,
     "metadata": {},
     "output_type": "execute_result"
    }
   ],
   "source": [
    "#文書出現率\n",
    "sum=np.zeros(word_amount)\n",
    "for i in range(document_amount):\n",
    "    sum+=document_appearance[i,:]\n",
    "appearance_rate=sum/document_amount\n",
    "appearance_rate"
   ]
  },
  {
   "cell_type": "code",
   "execution_count": 83,
   "id": "543ad15e",
   "metadata": {},
   "outputs": [
    {
     "data": {
      "text/plain": [
       "array([0.32192809, 0.        , 0.32192809, 0.73696559])"
      ]
     },
     "execution_count": 83,
     "metadata": {},
     "output_type": "execute_result"
    }
   ],
   "source": [
    "#idf\n",
    "idf=np.abs(np.log2(appearance_rate))\n",
    "idf"
   ]
  },
  {
   "cell_type": "code",
   "execution_count": 84,
   "id": "4c6720d6",
   "metadata": {},
   "outputs": [
    {
     "data": {
      "text/plain": [
       "array([[0.32192809, 0.        , 0.        , 0.73696559],\n",
       "       [0.        , 0.        , 0.        , 0.73696559],\n",
       "       [0.32192809, 0.        , 0.32192809, 0.        ],\n",
       "       [0.32192809, 0.        , 0.64385619, 0.        ],\n",
       "       [0.32192809, 0.        , 0.32192809, 0.73696559]])"
      ]
     },
     "execution_count": 84,
     "metadata": {},
     "output_type": "execute_result"
    }
   ],
   "source": [
    "#vec_d\n",
    "vec_d=np.zeros((document_amount,word_amount))\n",
    "for i in range(document_amount):\n",
    "    for j in range(word_amount):\n",
    "        vec_d[i][j]=document_appearance[i,j]*idf[j]\n",
    "vec_d"
   ]
  },
  {
   "cell_type": "code",
   "execution_count": 85,
   "id": "187df234",
   "metadata": {},
   "outputs": [
    {
     "data": {
      "text/plain": [
       "array([0.80421141, 0.73696559, 0.45527508, 0.7198531 , 0.86625267])"
      ]
     },
     "execution_count": 85,
     "metadata": {},
     "output_type": "execute_result"
    }
   ],
   "source": [
    "#vec_d_norm\n",
    "vec_d_norm=np.zeros(document_amount)\n",
    "for i in range(document_amount):\n",
    "    vec_d_norm[i]=np.linalg.norm(vec_d[i,:],ord=2)\n",
    "vec_d_norm"
   ]
  },
  {
   "cell_type": "code",
   "execution_count": 86,
   "id": "dfcd025e",
   "metadata": {},
   "outputs": [
    {
     "data": {
      "text/plain": [
       "array([[0.40030282, 0.        , 0.        , 0.91638292],\n",
       "       [0.        , 0.        , 0.        , 1.        ],\n",
       "       [0.70710678, 0.        , 0.70710678, 0.        ],\n",
       "       [0.4472136 , 0.        , 0.89442719, 0.        ],\n",
       "       [0.37163302, 0.        , 0.37163302, 0.85075131]])"
      ]
     },
     "execution_count": 86,
     "metadata": {},
     "output_type": "execute_result"
    }
   ],
   "source": [
    "#vec_d #正規化\n",
    "normalized_vec_d=np.zeros((document_amount,word_amount))\n",
    "for i in range(document_amount):\n",
    "    for j in range(word_amount):\n",
    "        normalized_vec_d[i][j]=vec_d[i][j]/vec_d_norm[i]\n",
    "normalized_vec_d"
   ]
  },
  {
   "cell_type": "code",
   "execution_count": 81,
   "id": "10ddeba5",
   "metadata": {},
   "outputs": [],
   "source": [
    "#tf-idf"
   ]
  },
  {
   "cell_type": "code",
   "execution_count": null,
   "id": "bcd16e42",
   "metadata": {},
   "outputs": [],
   "source": [
    "#ここで中断"
   ]
  },
  {
   "cell_type": "code",
   "execution_count": 114,
   "id": "3de4a910",
   "metadata": {},
   "outputs": [
    {
     "data": {
      "text/plain": [
       "array([[[0., 0., 0., 0.],\n",
       "        [0., 1., 0., 0.],\n",
       "        [0., 2., 0., 0.],\n",
       "        [0., 1., 0., 0.],\n",
       "        [0., 1., 0., 0.]],\n",
       "\n",
       "       [[0., 0., 0., 0.],\n",
       "        [0., 1., 0., 0.],\n",
       "        [0., 2., 1., 0.],\n",
       "        [0., 1., 2., 0.],\n",
       "        [0., 1., 1., 0.]],\n",
       "\n",
       "       [[1., 0., 0., 0.],\n",
       "        [0., 1., 0., 0.],\n",
       "        [1., 2., 0., 0.],\n",
       "        [1., 1., 0., 0.],\n",
       "        [1., 1., 0., 0.]]])"
      ]
     },
     "execution_count": 114,
     "metadata": {},
     "output_type": "execute_result"
    }
   ],
   "source": [
    "freq=np.zeros((query_amount,document_amount,word_amount))\n",
    "for k in range(query_amount):\n",
    "    for i in range(document_amount):\n",
    "        for j in range(word_amount):\n",
    "            freq[k][i][j]=np.where(query[k,j]==document_appearance_bool[i][j], document_appearance[i][j],0)\n",
    "freq"
   ]
  },
  {
   "cell_type": "code",
   "execution_count": 123,
   "id": "4f112d80",
   "metadata": {},
   "outputs": [
    {
     "data": {
      "text/plain": [
       "array([[0., 1., 2., 1., 1.],\n",
       "       [0., 1., 3., 3., 2.],\n",
       "       [1., 1., 3., 2., 2.]])"
      ]
     },
     "execution_count": 123,
     "metadata": {},
     "output_type": "execute_result"
    }
   ],
   "source": [
    "tf=np.zeros((query_amount,document_amount))\n",
    "for k in range(query_amount):\n",
    "    for i in range(document_amount):\n",
    "        tf[k,i]=np.sum(freq[k][i])\n",
    "tf"
   ]
  },
  {
   "cell_type": "code",
   "execution_count": 107,
   "id": "46a3ad90",
   "metadata": {},
   "outputs": [
    {
     "data": {
      "text/plain": [
       "array([[0.        , 0.70710678, 0.81649658, 0.40824829, 0.5       ],\n",
       "       [0.        , 0.5       , 0.8660254 , 0.8660254 , 0.70710678],\n",
       "       [0.5       , 0.5       , 0.8660254 , 0.57735027, 0.70710678]])"
      ]
     },
     "execution_count": 107,
     "metadata": {},
     "output_type": "execute_result"
    }
   ],
   "source": [
    "sim_tfidf=np.zeros((query_amount,document_amount))\n",
    "for k in range(query_amount):\n",
    "    for i in range(document_amount):\n",
    "        sim_tfidf[k][i]=np.dot(document_appearance[i,:],query[k])/(np.linalg.norm(document_appearance[i,:],ord=2)*np.linalg.norm(query[k],ord=2))\n",
    "sim_tfidf"
   ]
  },
  {
   "cell_type": "code",
   "execution_count": null,
   "id": "dea55736",
   "metadata": {},
   "outputs": [],
   "source": []
  },
  {
   "cell_type": "code",
   "execution_count": null,
   "id": "7a18b419",
   "metadata": {},
   "outputs": [],
   "source": []
  },
  {
   "cell_type": "code",
   "execution_count": 66,
   "id": "186e7f58",
   "metadata": {},
   "outputs": [
    {
     "data": {
      "text/plain": [
       "0.8042717202537958"
      ]
     },
     "execution_count": 66,
     "metadata": {},
     "output_type": "execute_result"
    }
   ],
   "source": [
    "(0.322**2+0.737**2)**0.5"
   ]
  },
  {
   "cell_type": "code",
   "execution_count": 67,
   "id": "eba88b71",
   "metadata": {},
   "outputs": [
    {
     "data": {
      "text/plain": [
       "0.644"
      ]
     },
     "execution_count": 67,
     "metadata": {},
     "output_type": "execute_result"
    }
   ],
   "source": [
    "((0.322**2)*4)**0.5"
   ]
  },
  {
   "cell_type": "code",
   "execution_count": 70,
   "id": "fdd74d35",
   "metadata": {},
   "outputs": [
    {
     "data": {
      "text/plain": [
       "array([0.        , 0.32192809, 0.        , 0.73696559])"
      ]
     },
     "execution_count": 70,
     "metadata": {},
     "output_type": "execute_result"
    }
   ],
   "source": [
    "vec_d[1,:]"
   ]
  },
  {
   "cell_type": "code",
   "execution_count": null,
   "id": "62ad0aaa",
   "metadata": {},
   "outputs": [],
   "source": []
  }
 ],
 "metadata": {
  "kernelspec": {
   "display_name": "Python 3 (ipykernel)",
   "language": "python",
   "name": "python3"
  },
  "language_info": {
   "codemirror_mode": {
    "name": "ipython",
    "version": 3
   },
   "file_extension": ".py",
   "mimetype": "text/x-python",
   "name": "python",
   "nbconvert_exporter": "python",
   "pygments_lexer": "ipython3",
   "version": "3.9.12"
  }
 },
 "nbformat": 4,
 "nbformat_minor": 5
}
